{
  "nbformat": 4,
  "nbformat_minor": 0,
  "metadata": {
    "colab": {
      "name": "Deeplearning.ipynb",
      "provenance": [],
      "authorship_tag": "ABX9TyMxoI2c7pUQJqnW/S9XUFtg",
      "include_colab_link": true
    },
    "kernelspec": {
      "name": "python3",
      "display_name": "Python 3"
    },
    "language_info": {
      "name": "python"
    }
  },
  "cells": [
    {
      "cell_type": "markdown",
      "metadata": {
        "id": "view-in-github",
        "colab_type": "text"
      },
      "source": [
        "<a href=\"https://colab.research.google.com/github/yuta-kanematsu/TU_math_study/blob/main/Deeplearning.ipynb\" target=\"_parent\"><img src=\"https://colab.research.google.com/assets/colab-badge.svg\" alt=\"Open In Colab\"/></a>"
      ]
    },
    {
      "cell_type": "code",
      "execution_count": 17,
      "metadata": {
        "colab": {
          "base_uri": "https://localhost:8080/"
        },
        "id": "euRx_E_6bUYl",
        "outputId": "ee0028c7-cb9c-40f3-9b1f-8a37dbe44221"
      },
      "outputs": [
        {
          "output_type": "stream",
          "name": "stdout",
          "text": [
            "Accuracy:1.0\n"
          ]
        }
      ],
      "source": [
        "#Iris datasets\n",
        "import numpy \n",
        "from sklearn.datasets import load_iris\n",
        "from sklearn.linear_model import Perceptron\n",
        "from sklearn.model_selection import train_test_split\n",
        "from sklearn.metrics import accuracy_score\n",
        "\n",
        "\n",
        "iris = load_iris()\n",
        "\n",
        "x = iris.data\n",
        "Y = (iris.target==0).astype(int)\n",
        "\n",
        "train_x, test_x, train_Y, test_Y = train_test_split(x, Y, test_size=0.3, random_state=42, shuffle=True)\n",
        "\n",
        "perc_clf = Perceptron()\n",
        "perc_clf.fit(train_x, train_Y)\n",
        "\n",
        "predictions = perc_clf.predict(test_x)\n",
        "\n",
        "print('Accuracy:'+str(accuracy_score(test_Y, predictions)))"
      ]
    },
    {
      "cell_type": "code",
      "source": [
        "#Multi layer percptron\n",
        "from sklearn.neural_network import MLPClassifier\n",
        "\n",
        "iris = load_iris()\n",
        "\n",
        "x = iris.data\n",
        "Y = iris.target\n",
        "\n",
        "train_x, test_x, train_Y, test_Y = train_test_split(x, Y, test_size=0.3, random_state=42, shuffle=True)\n",
        "\n",
        "mlp_clsf = MLPClassifier((10,10), activation='relu', learning_rate='constant', learning_rate_init=0.001, max_iter=1000, random_state=42)\n",
        "mlp_clsf.fit(train_x, train_Y)\n",
        "predictions = mlp_clsf.predict(test_x)\n",
        "print('Accuracy:'+str(accuracy_score(test_Y, predictions)))\n"
      ],
      "metadata": {
        "colab": {
          "base_uri": "https://localhost:8080/"
        },
        "id": "E-BoDfZLdDdc",
        "outputId": "e5fa8139-3cbe-40ca-df22-f7f1b4dbfff5"
      },
      "execution_count": 18,
      "outputs": [
        {
          "output_type": "stream",
          "name": "stdout",
          "text": [
            "Accuracy:0.9777777777777777\n"
          ]
        }
      ]
    },
    {
      "cell_type": "code",
      "source": [
        "mlp_clsf.predict_proba(test_x[0].reshape(1, -1)).sum()"
      ],
      "metadata": {
        "colab": {
          "base_uri": "https://localhost:8080/"
        },
        "id": "hphSsSfilZzG",
        "outputId": "ba648661-514d-4305-87d3-ac4dd1e37611"
      },
      "execution_count": 19,
      "outputs": [
        {
          "output_type": "execute_result",
          "data": {
            "text/plain": [
              "1.0"
            ]
          },
          "metadata": {},
          "execution_count": 19
        }
      ]
    },
    {
      "cell_type": "code",
      "source": [
        "#MLP regression\n",
        "from sklearn.datasets import load_boston\n",
        "from sklearn.neural_network import MLPRegressor\n",
        "from sklearn.model_selection import train_test_split\n",
        "from sklearn.metrics import mean_squared_error\n",
        "\n",
        "dataset = load_boston()\n",
        "\n",
        "x = dataset['data']\n",
        "Y = dataset['target']\n",
        "\n",
        "train_x, test_x, train_Y, test_Y = train_test_split(x, Y, test_size=0.3, random_state=42, shuffle=True)\n",
        "\n",
        "mlp_reg = MLPRegressor((10,10), activation='relu', learning_rate='constant', learning_rate_init=0.001, max_iter=3000, random_state=42)\n",
        "mlp_reg.fit(train_x, train_Y)\n",
        "predictions = mlp_reg.predict(test_x)\n",
        "\n",
        "error = mean_squared_error(test_Y, predictions) ** (1/2)\n",
        "print('RMSE:'+str(error))"
      ],
      "metadata": {
        "colab": {
          "base_uri": "https://localhost:8080/"
        },
        "id": "axRIwyEbept5",
        "outputId": "b87e4549-e7e0-48ef-befa-8ca0c90d6b3e"
      },
      "execution_count": 20,
      "outputs": [
        {
          "output_type": "stream",
          "name": "stderr",
          "text": [
            "/usr/local/lib/python3.7/dist-packages/sklearn/utils/deprecation.py:87: FutureWarning: Function load_boston is deprecated; `load_boston` is deprecated in 1.0 and will be removed in 1.2.\n",
            "\n",
            "    The Boston housing prices dataset has an ethical problem. You can refer to\n",
            "    the documentation of this function for further details.\n",
            "\n",
            "    The scikit-learn maintainers therefore strongly discourage the use of this\n",
            "    dataset unless the purpose of the code is to study and educate about\n",
            "    ethical issues in data science and machine learning.\n",
            "\n",
            "    In this special case, you can fetch the dataset from the original\n",
            "    source::\n",
            "\n",
            "        import pandas as pd\n",
            "        import numpy as np\n",
            "\n",
            "\n",
            "        data_url = \"http://lib.stat.cmu.edu/datasets/boston\"\n",
            "        raw_df = pd.read_csv(data_url, sep=\"\\s+\", skiprows=22, header=None)\n",
            "        data = np.hstack([raw_df.values[::2, :], raw_df.values[1::2, :2]])\n",
            "        target = raw_df.values[1::2, 2]\n",
            "\n",
            "    Alternative datasets include the California housing dataset (i.e.\n",
            "    :func:`~sklearn.datasets.fetch_california_housing`) and the Ames housing\n",
            "    dataset. You can load the datasets as follows::\n",
            "\n",
            "        from sklearn.datasets import fetch_california_housing\n",
            "        housing = fetch_california_housing()\n",
            "\n",
            "    for the California housing dataset and::\n",
            "\n",
            "        from sklearn.datasets import fetch_openml\n",
            "        housing = fetch_openml(name=\"house_prices\", as_frame=True)\n",
            "\n",
            "    for the Ames housing dataset.\n",
            "    \n",
            "  warnings.warn(msg, category=FutureWarning)\n"
          ]
        },
        {
          "output_type": "stream",
          "name": "stdout",
          "text": [
            "RMSE:4.699377521565086\n"
          ]
        }
      ]
    },
    {
      "cell_type": "code",
      "source": [
        "#Regression using Keras\n",
        "import tensorflow as tf\n",
        "from tensorflow import keras\n",
        "from sklearn.preprocessing import StandardScaler\n",
        "\n",
        "house_price = keras.datasets.boston_housing\n",
        "(train_x, train_Y),(test_x, test_Y) = house_price.load_data()\n",
        "train_x, valid_x, train_Y, valid_Y = train_test_split(train_x, train_Y)\n",
        "\n",
        "scaler = StandardScaler()\n",
        "train_x = scaler.fit_transform(train_x)\n",
        "valid_x = scaler.fit_transform(valid_x)\n",
        "test_x = scaler.fit_transform(test_x)\n",
        "\n",
        "keras_model = keras.models.Sequential()\n",
        "keras_model.add(tf.keras.Input(shape=train_x.shape[1:],))\n",
        "keras_model.add(tf.keras.layers.Dense(30, activation='relu'))\n",
        "keras_model.add(tf.keras.layers.Dense(1))\n",
        "\n",
        "keras_model.summary()\n",
        "\n",
        "keras_model.compile(loss='mean_squared_error', optimizer='sgd', metrics=[tf.keras.metrics.RootMeanSquaredError(name='root_mean_squared_error', dtype=None)])\n",
        "history = keras_model.fit(train_x, train_Y, epochs=70, validation_data=(valid_x, valid_Y))"
      ],
      "metadata": {
        "colab": {
          "base_uri": "https://localhost:8080/"
        },
        "id": "J9MQqV0jf7l_",
        "outputId": "182714d0-a49a-48f8-e518-1cde9590eb4f"
      },
      "execution_count": 21,
      "outputs": [
        {
          "output_type": "stream",
          "name": "stdout",
          "text": [
            "Model: \"sequential_3\"\n",
            "_________________________________________________________________\n",
            " Layer (type)                Output Shape              Param #   \n",
            "=================================================================\n",
            " dense_4 (Dense)             (None, 30)                420       \n",
            "                                                                 \n",
            " dense_5 (Dense)             (None, 1)                 31        \n",
            "                                                                 \n",
            "=================================================================\n",
            "Total params: 451\n",
            "Trainable params: 451\n",
            "Non-trainable params: 0\n",
            "_________________________________________________________________\n",
            "Epoch 1/70\n",
            "10/10 [==============================] - 1s 37ms/step - loss: 196.6545 - root_mean_squared_error: 14.0234 - val_loss: 38.6460 - val_root_mean_squared_error: 6.2166\n",
            "Epoch 2/70\n",
            "10/10 [==============================] - 0s 11ms/step - loss: 29.2416 - root_mean_squared_error: 5.4076 - val_loss: 16.5501 - val_root_mean_squared_error: 4.0682\n",
            "Epoch 3/70\n",
            "10/10 [==============================] - 0s 10ms/step - loss: 18.5150 - root_mean_squared_error: 4.3029 - val_loss: 20.5567 - val_root_mean_squared_error: 4.5340\n",
            "Epoch 4/70\n",
            "10/10 [==============================] - 0s 12ms/step - loss: 20.3472 - root_mean_squared_error: 4.5108 - val_loss: 13.0034 - val_root_mean_squared_error: 3.6060\n",
            "Epoch 5/70\n",
            "10/10 [==============================] - 0s 11ms/step - loss: 14.2978 - root_mean_squared_error: 3.7812 - val_loss: 14.4243 - val_root_mean_squared_error: 3.7979\n",
            "Epoch 6/70\n",
            "10/10 [==============================] - 0s 10ms/step - loss: 15.1187 - root_mean_squared_error: 3.8883 - val_loss: 25.9448 - val_root_mean_squared_error: 5.0936\n",
            "Epoch 7/70\n",
            "10/10 [==============================] - 0s 10ms/step - loss: 12.2777 - root_mean_squared_error: 3.5040 - val_loss: 11.9134 - val_root_mean_squared_error: 3.4516\n",
            "Epoch 8/70\n",
            "10/10 [==============================] - 0s 9ms/step - loss: 11.5468 - root_mean_squared_error: 3.3981 - val_loss: 17.5275 - val_root_mean_squared_error: 4.1866\n",
            "Epoch 9/70\n",
            "10/10 [==============================] - 0s 11ms/step - loss: 12.2126 - root_mean_squared_error: 3.4946 - val_loss: 17.7583 - val_root_mean_squared_error: 4.2141\n",
            "Epoch 10/70\n",
            "10/10 [==============================] - 0s 10ms/step - loss: 11.4021 - root_mean_squared_error: 3.3767 - val_loss: 12.8493 - val_root_mean_squared_error: 3.5846\n",
            "Epoch 11/70\n",
            "10/10 [==============================] - 0s 10ms/step - loss: 10.4084 - root_mean_squared_error: 3.2262 - val_loss: 13.0697 - val_root_mean_squared_error: 3.6152\n",
            "Epoch 12/70\n",
            "10/10 [==============================] - 0s 10ms/step - loss: 10.4124 - root_mean_squared_error: 3.2268 - val_loss: 14.1887 - val_root_mean_squared_error: 3.7668\n",
            "Epoch 13/70\n",
            "10/10 [==============================] - 0s 12ms/step - loss: 10.0753 - root_mean_squared_error: 3.1742 - val_loss: 13.5530 - val_root_mean_squared_error: 3.6814\n",
            "Epoch 14/70\n",
            "10/10 [==============================] - 0s 10ms/step - loss: 11.0268 - root_mean_squared_error: 3.3207 - val_loss: 14.0516 - val_root_mean_squared_error: 3.7485\n",
            "Epoch 15/70\n",
            "10/10 [==============================] - 0s 10ms/step - loss: 10.0062 - root_mean_squared_error: 3.1633 - val_loss: 20.8419 - val_root_mean_squared_error: 4.5653\n",
            "Epoch 16/70\n",
            "10/10 [==============================] - 0s 10ms/step - loss: 10.7824 - root_mean_squared_error: 3.2837 - val_loss: 12.7623 - val_root_mean_squared_error: 3.5724\n",
            "Epoch 17/70\n",
            "10/10 [==============================] - 0s 11ms/step - loss: 10.2795 - root_mean_squared_error: 3.2062 - val_loss: 17.8640 - val_root_mean_squared_error: 4.2266\n",
            "Epoch 18/70\n",
            "10/10 [==============================] - 0s 10ms/step - loss: 12.2882 - root_mean_squared_error: 3.5054 - val_loss: 16.9508 - val_root_mean_squared_error: 4.1171\n",
            "Epoch 19/70\n",
            "10/10 [==============================] - 0s 11ms/step - loss: 10.1931 - root_mean_squared_error: 3.1927 - val_loss: 16.0968 - val_root_mean_squared_error: 4.0121\n",
            "Epoch 20/70\n",
            "10/10 [==============================] - 0s 11ms/step - loss: 9.3039 - root_mean_squared_error: 3.0502 - val_loss: 10.9910 - val_root_mean_squared_error: 3.3153\n",
            "Epoch 21/70\n",
            "10/10 [==============================] - 0s 10ms/step - loss: 8.7821 - root_mean_squared_error: 2.9635 - val_loss: 19.4788 - val_root_mean_squared_error: 4.4135\n",
            "Epoch 22/70\n",
            "10/10 [==============================] - 0s 10ms/step - loss: 9.9663 - root_mean_squared_error: 3.1569 - val_loss: 20.0291 - val_root_mean_squared_error: 4.4754\n",
            "Epoch 23/70\n",
            "10/10 [==============================] - 0s 11ms/step - loss: 9.8559 - root_mean_squared_error: 3.1394 - val_loss: 14.4636 - val_root_mean_squared_error: 3.8031\n",
            "Epoch 24/70\n",
            "10/10 [==============================] - 0s 10ms/step - loss: 9.3036 - root_mean_squared_error: 3.0502 - val_loss: 14.0923 - val_root_mean_squared_error: 3.7540\n",
            "Epoch 25/70\n",
            "10/10 [==============================] - 0s 10ms/step - loss: 9.4562 - root_mean_squared_error: 3.0751 - val_loss: 12.5215 - val_root_mean_squared_error: 3.5386\n",
            "Epoch 26/70\n",
            "10/10 [==============================] - 0s 10ms/step - loss: 8.3436 - root_mean_squared_error: 2.8885 - val_loss: 11.3037 - val_root_mean_squared_error: 3.3621\n",
            "Epoch 27/70\n",
            "10/10 [==============================] - 0s 10ms/step - loss: 8.2959 - root_mean_squared_error: 2.8803 - val_loss: 14.6791 - val_root_mean_squared_error: 3.8313\n",
            "Epoch 28/70\n",
            "10/10 [==============================] - 0s 10ms/step - loss: 8.1535 - root_mean_squared_error: 2.8554 - val_loss: 13.5792 - val_root_mean_squared_error: 3.6850\n",
            "Epoch 29/70\n",
            "10/10 [==============================] - 0s 10ms/step - loss: 8.8711 - root_mean_squared_error: 2.9784 - val_loss: 13.3545 - val_root_mean_squared_error: 3.6544\n",
            "Epoch 30/70\n",
            "10/10 [==============================] - 0s 10ms/step - loss: 7.7576 - root_mean_squared_error: 2.7853 - val_loss: 18.2998 - val_root_mean_squared_error: 4.2778\n",
            "Epoch 31/70\n",
            "10/10 [==============================] - 0s 9ms/step - loss: 9.0883 - root_mean_squared_error: 3.0147 - val_loss: 18.5771 - val_root_mean_squared_error: 4.3101\n",
            "Epoch 32/70\n",
            "10/10 [==============================] - 0s 13ms/step - loss: 8.6646 - root_mean_squared_error: 2.9436 - val_loss: 12.4794 - val_root_mean_squared_error: 3.5326\n",
            "Epoch 33/70\n",
            "10/10 [==============================] - 0s 10ms/step - loss: 8.1142 - root_mean_squared_error: 2.8485 - val_loss: 12.3078 - val_root_mean_squared_error: 3.5082\n",
            "Epoch 34/70\n",
            "10/10 [==============================] - 0s 10ms/step - loss: 7.8667 - root_mean_squared_error: 2.8048 - val_loss: 13.0003 - val_root_mean_squared_error: 3.6056\n",
            "Epoch 35/70\n",
            "10/10 [==============================] - 0s 10ms/step - loss: 8.5729 - root_mean_squared_error: 2.9280 - val_loss: 12.6764 - val_root_mean_squared_error: 3.5604\n",
            "Epoch 36/70\n",
            "10/10 [==============================] - 0s 11ms/step - loss: 7.6511 - root_mean_squared_error: 2.7661 - val_loss: 12.3285 - val_root_mean_squared_error: 3.5112\n",
            "Epoch 37/70\n",
            "10/10 [==============================] - 0s 14ms/step - loss: 7.3541 - root_mean_squared_error: 2.7119 - val_loss: 14.5857 - val_root_mean_squared_error: 3.8191\n",
            "Epoch 38/70\n",
            "10/10 [==============================] - 0s 11ms/step - loss: 8.3428 - root_mean_squared_error: 2.8884 - val_loss: 11.6798 - val_root_mean_squared_error: 3.4176\n",
            "Epoch 39/70\n",
            "10/10 [==============================] - 0s 13ms/step - loss: 7.4675 - root_mean_squared_error: 2.7327 - val_loss: 12.8457 - val_root_mean_squared_error: 3.5841\n",
            "Epoch 40/70\n",
            "10/10 [==============================] - 0s 12ms/step - loss: 7.4467 - root_mean_squared_error: 2.7289 - val_loss: 11.8926 - val_root_mean_squared_error: 3.4486\n",
            "Epoch 41/70\n",
            "10/10 [==============================] - 0s 15ms/step - loss: 8.1568 - root_mean_squared_error: 2.8560 - val_loss: 12.8471 - val_root_mean_squared_error: 3.5843\n",
            "Epoch 42/70\n",
            "10/10 [==============================] - 0s 12ms/step - loss: 7.5419 - root_mean_squared_error: 2.7463 - val_loss: 13.8743 - val_root_mean_squared_error: 3.7248\n",
            "Epoch 43/70\n",
            "10/10 [==============================] - 0s 10ms/step - loss: 7.5260 - root_mean_squared_error: 2.7434 - val_loss: 12.8238 - val_root_mean_squared_error: 3.5810\n",
            "Epoch 44/70\n",
            "10/10 [==============================] - 0s 10ms/step - loss: 7.9460 - root_mean_squared_error: 2.8189 - val_loss: 11.2080 - val_root_mean_squared_error: 3.3478\n",
            "Epoch 45/70\n",
            "10/10 [==============================] - 0s 9ms/step - loss: 7.1397 - root_mean_squared_error: 2.6720 - val_loss: 15.8088 - val_root_mean_squared_error: 3.9760\n",
            "Epoch 46/70\n",
            "10/10 [==============================] - 0s 7ms/step - loss: 7.3841 - root_mean_squared_error: 2.7174 - val_loss: 11.3958 - val_root_mean_squared_error: 3.3758\n",
            "Epoch 47/70\n",
            "10/10 [==============================] - 0s 8ms/step - loss: 7.8822 - root_mean_squared_error: 2.8075 - val_loss: 12.2474 - val_root_mean_squared_error: 3.4996\n",
            "Epoch 48/70\n",
            "10/10 [==============================] - 0s 7ms/step - loss: 7.9534 - root_mean_squared_error: 2.8202 - val_loss: 12.8857 - val_root_mean_squared_error: 3.5897\n",
            "Epoch 49/70\n",
            "10/10 [==============================] - 0s 6ms/step - loss: 7.5032 - root_mean_squared_error: 2.7392 - val_loss: 13.6801 - val_root_mean_squared_error: 3.6987\n",
            "Epoch 50/70\n",
            "10/10 [==============================] - 0s 7ms/step - loss: 7.0312 - root_mean_squared_error: 2.6516 - val_loss: 11.2292 - val_root_mean_squared_error: 3.3510\n",
            "Epoch 51/70\n",
            "10/10 [==============================] - 0s 7ms/step - loss: 7.7841 - root_mean_squared_error: 2.7900 - val_loss: 12.7439 - val_root_mean_squared_error: 3.5699\n",
            "Epoch 52/70\n",
            "10/10 [==============================] - 0s 7ms/step - loss: 7.0363 - root_mean_squared_error: 2.6526 - val_loss: 16.0186 - val_root_mean_squared_error: 4.0023\n",
            "Epoch 53/70\n",
            "10/10 [==============================] - 0s 8ms/step - loss: 10.6638 - root_mean_squared_error: 3.2656 - val_loss: 11.9563 - val_root_mean_squared_error: 3.4578\n",
            "Epoch 54/70\n",
            "10/10 [==============================] - 0s 7ms/step - loss: 6.8361 - root_mean_squared_error: 2.6146 - val_loss: 11.9457 - val_root_mean_squared_error: 3.4563\n",
            "Epoch 55/70\n",
            "10/10 [==============================] - 0s 8ms/step - loss: 8.7080 - root_mean_squared_error: 2.9509 - val_loss: 13.7613 - val_root_mean_squared_error: 3.7096\n",
            "Epoch 56/70\n",
            "10/10 [==============================] - 0s 6ms/step - loss: 6.6643 - root_mean_squared_error: 2.5815 - val_loss: 10.6981 - val_root_mean_squared_error: 3.2708\n",
            "Epoch 57/70\n",
            "10/10 [==============================] - 0s 6ms/step - loss: 6.7879 - root_mean_squared_error: 2.6054 - val_loss: 12.5864 - val_root_mean_squared_error: 3.5477\n",
            "Epoch 58/70\n",
            "10/10 [==============================] - 0s 8ms/step - loss: 6.8165 - root_mean_squared_error: 2.6108 - val_loss: 10.9893 - val_root_mean_squared_error: 3.3150\n",
            "Epoch 59/70\n",
            "10/10 [==============================] - 0s 6ms/step - loss: 7.1831 - root_mean_squared_error: 2.6801 - val_loss: 20.5515 - val_root_mean_squared_error: 4.5334\n",
            "Epoch 60/70\n",
            "10/10 [==============================] - 0s 6ms/step - loss: 7.5135 - root_mean_squared_error: 2.7411 - val_loss: 13.7669 - val_root_mean_squared_error: 3.7104\n",
            "Epoch 61/70\n",
            "10/10 [==============================] - 0s 7ms/step - loss: 6.3475 - root_mean_squared_error: 2.5194 - val_loss: 11.0560 - val_root_mean_squared_error: 3.3251\n",
            "Epoch 62/70\n",
            "10/10 [==============================] - 0s 6ms/step - loss: 6.8140 - root_mean_squared_error: 2.6104 - val_loss: 12.8307 - val_root_mean_squared_error: 3.5820\n",
            "Epoch 63/70\n",
            "10/10 [==============================] - 0s 8ms/step - loss: 6.6589 - root_mean_squared_error: 2.5805 - val_loss: 11.0579 - val_root_mean_squared_error: 3.3253\n",
            "Epoch 64/70\n",
            "10/10 [==============================] - 0s 8ms/step - loss: 7.2271 - root_mean_squared_error: 2.6883 - val_loss: 12.3972 - val_root_mean_squared_error: 3.5210\n",
            "Epoch 65/70\n",
            "10/10 [==============================] - 0s 7ms/step - loss: 6.9695 - root_mean_squared_error: 2.6400 - val_loss: 15.5145 - val_root_mean_squared_error: 3.9388\n",
            "Epoch 66/70\n",
            "10/10 [==============================] - 0s 5ms/step - loss: 7.9651 - root_mean_squared_error: 2.8222 - val_loss: 11.6437 - val_root_mean_squared_error: 3.4123\n",
            "Epoch 67/70\n",
            "10/10 [==============================] - 0s 6ms/step - loss: 6.7090 - root_mean_squared_error: 2.5902 - val_loss: 11.2505 - val_root_mean_squared_error: 3.3542\n",
            "Epoch 68/70\n",
            "10/10 [==============================] - 0s 8ms/step - loss: 6.7542 - root_mean_squared_error: 2.5989 - val_loss: 13.4899 - val_root_mean_squared_error: 3.6729\n",
            "Epoch 69/70\n",
            "10/10 [==============================] - 0s 7ms/step - loss: 6.7392 - root_mean_squared_error: 2.5960 - val_loss: 12.0934 - val_root_mean_squared_error: 3.4776\n",
            "Epoch 70/70\n",
            "10/10 [==============================] - 0s 6ms/step - loss: 7.5171 - root_mean_squared_error: 2.7417 - val_loss: 10.8414 - val_root_mean_squared_error: 3.2926\n"
          ]
        }
      ]
    },
    {
      "cell_type": "code",
      "source": [
        "import pandas as pd\n",
        "import matplotlib.pyplot as plt\n",
        "\n",
        "pd.DataFrame(history.history).plot(figsize=(10, 8))\n",
        "plt.grid(True)\n",
        "plt.gca().set_ylim(0,60)\n",
        "plt.xlabel('# of Epochs')\n",
        "plt.show()\n",
        "\n",
        "mean_squared_error(test_Y, keras_model.predict(test_x))**(1/2)"
      ],
      "metadata": {
        "colab": {
          "base_uri": "https://localhost:8080/",
          "height": 519
        },
        "id": "90SmfXd9i8gJ",
        "outputId": "a909bffb-27de-4dc9-ee96-03118bce48b6"
      },
      "execution_count": 22,
      "outputs": [
        {
          "output_type": "display_data",
          "data": {
            "text/plain": [
              "<Figure size 720x576 with 1 Axes>"
            ],
            "image/png": "[encoded data removed]"
          },
          "metadata": {
            "needs_background": "light"
          }
        },
        {
          "output_type": "execute_result",
          "data": {
            "text/plain": [
              "4.333327689591115"
            ]
          },
          "metadata": {},
          "execution_count": 22
        }
      ]
    },
    {
      "cell_type": "code",
      "source": [
        "#Classificaton using Keras\n",
        "(train_x, train_Y), (test_x, test_Y) = tf.keras.datasets.mnist.load_data(path='mnist.npz')"
      ],
      "metadata": {
        "id": "duptH_MPoJBm"
      },
      "execution_count": 23,
      "outputs": []
    },
    {
      "cell_type": "code",
      "source": [
        "from matplotlib import pyplot as plt\n",
        "plt.imshow(train_x[0], cmap='Greys')\n",
        "plt.show()"
      ],
      "metadata": {
        "colab": {
          "base_uri": "https://localhost:8080/",
          "height": 265
        },
        "id": "WBb27W0IojY4",
        "outputId": "d8b37cf3-5e46-4885-dd1d-b35a5b95ac2c"
      },
      "execution_count": 24,
      "outputs": [
        {
          "output_type": "display_data",
          "data": {
            "text/plain": [
              "<Figure size 432x288 with 1 Axes>"
            ],
            "image/png": "[encoded data removed]"
          },
          "metadata": {
            "needs_background": "light"
          }
        }
      ]
    },
    {
      "cell_type": "code",
      "source": [
        "import tensorflow as tf\n",
        "from tensorflow import keras\n",
        "from sklearn.preprocessing import StandardScaler\n",
        "\n",
        "train_x, valid_x, train_Y, valid_Y = train_test_split(train_x, train_Y)\n",
        "\n",
        "train_x = train_x / 255.0\n",
        "valid_x = valid_x / 255.0\n",
        "test_x = test_x / 255.0\n",
        "\n",
        "keras_clf = keras.models.Sequential()\n",
        "keras_clf.add(keras.layers.Flatten(input_shape=[28,28]))\n",
        "keras_clf.add(keras.layers.Dense(10, activation='softmax'))\n",
        "\n",
        "keras_clf.summary()\n",
        "keras_clf.compile(loss='sparse_categorical_crossentropy', optimizer='sgd', metrics=['accuracy'])\n",
        "history = keras_clf.fit(train_x, train_Y, epochs=20, validation_data=(valid_x, valid_Y))\n"
      ],
      "metadata": {
        "colab": {
          "base_uri": "https://localhost:8080/"
        },
        "id": "hLnebDcNos5J",
        "outputId": "54e3fb6c-76f4-442c-e735-03ff1b73faca"
      },
      "execution_count": 25,
      "outputs": [
        {
          "output_type": "stream",
          "name": "stdout",
          "text": [
            "Model: \"sequential_4\"\n",
            "_________________________________________________________________\n",
            " Layer (type)                Output Shape              Param #   \n",
            "=================================================================\n",
            " flatten_2 (Flatten)         (None, 784)               0         \n",
            "                                                                 \n",
            " dense_6 (Dense)             (None, 10)                7850      \n",
            "                                                                 \n",
            "=================================================================\n",
            "Total params: 7,850\n",
            "Trainable params: 7,850\n",
            "Non-trainable params: 0\n",
            "_________________________________________________________________\n",
            "Epoch 1/20\n",
            "1407/1407 [==============================] - 4s 3ms/step - loss: 0.8582 - accuracy: 0.7985 - val_loss: 0.5569 - val_accuracy: 0.8636\n",
            "Epoch 2/20\n",
            "1407/1407 [==============================] - 4s 3ms/step - loss: 0.4908 - accuracy: 0.8749 - val_loss: 0.4616 - val_accuracy: 0.8789\n",
            "Epoch 3/20\n",
            "1407/1407 [==============================] - 4s 3ms/step - loss: 0.4277 - accuracy: 0.8867 - val_loss: 0.4218 - val_accuracy: 0.8850\n",
            "Epoch 4/20\n",
            "1407/1407 [==============================] - 4s 3ms/step - loss: 0.3964 - accuracy: 0.8931 - val_loss: 0.3982 - val_accuracy: 0.8920\n",
            "Epoch 5/20\n",
            "1407/1407 [==============================] - 4s 3ms/step - loss: 0.3766 - accuracy: 0.8971 - val_loss: 0.3828 - val_accuracy: 0.8955\n",
            "Epoch 6/20\n",
            "1407/1407 [==============================] - 4s 3ms/step - loss: 0.3628 - accuracy: 0.9003 - val_loss: 0.3717 - val_accuracy: 0.8976\n",
            "Epoch 7/20\n",
            "1407/1407 [==============================] - 5s 4ms/step - loss: 0.3523 - accuracy: 0.9019 - val_loss: 0.3630 - val_accuracy: 0.9005\n",
            "Epoch 8/20\n",
            "1407/1407 [==============================] - 5s 3ms/step - loss: 0.3438 - accuracy: 0.9044 - val_loss: 0.3560 - val_accuracy: 0.9022\n",
            "Epoch 9/20\n",
            "1407/1407 [==============================] - 5s 3ms/step - loss: 0.3371 - accuracy: 0.9061 - val_loss: 0.3501 - val_accuracy: 0.9039\n",
            "Epoch 10/20\n",
            "1407/1407 [==============================] - 4s 3ms/step - loss: 0.3314 - accuracy: 0.9075 - val_loss: 0.3453 - val_accuracy: 0.9057\n",
            "Epoch 11/20\n",
            "1407/1407 [==============================] - 4s 3ms/step - loss: 0.3264 - accuracy: 0.9086 - val_loss: 0.3416 - val_accuracy: 0.9061\n",
            "Epoch 12/20\n",
            "1407/1407 [==============================] - 4s 3ms/step - loss: 0.3223 - accuracy: 0.9096 - val_loss: 0.3376 - val_accuracy: 0.9070\n",
            "Epoch 13/20\n",
            "1407/1407 [==============================] - 3s 2ms/step - loss: 0.3184 - accuracy: 0.9109 - val_loss: 0.3349 - val_accuracy: 0.9086\n",
            "Epoch 14/20\n",
            "1407/1407 [==============================] - 4s 3ms/step - loss: 0.3151 - accuracy: 0.9118 - val_loss: 0.3315 - val_accuracy: 0.9087\n",
            "Epoch 15/20\n",
            "1407/1407 [==============================] - 4s 3ms/step - loss: 0.3121 - accuracy: 0.9129 - val_loss: 0.3292 - val_accuracy: 0.9085\n",
            "Epoch 16/20\n",
            "1407/1407 [==============================] - 3s 2ms/step - loss: 0.3093 - accuracy: 0.9132 - val_loss: 0.3269 - val_accuracy: 0.9100\n",
            "Epoch 17/20\n",
            "1407/1407 [==============================] - 4s 3ms/step - loss: 0.3068 - accuracy: 0.9141 - val_loss: 0.3250 - val_accuracy: 0.9105\n",
            "Epoch 18/20\n",
            "1407/1407 [==============================] - 3s 2ms/step - loss: 0.3044 - accuracy: 0.9146 - val_loss: 0.3231 - val_accuracy: 0.9114\n",
            "Epoch 19/20\n",
            "1407/1407 [==============================] - 6s 4ms/step - loss: 0.3025 - accuracy: 0.9149 - val_loss: 0.3215 - val_accuracy: 0.9111\n",
            "Epoch 20/20\n",
            "1407/1407 [==============================] - 4s 3ms/step - loss: 0.3004 - accuracy: 0.9155 - val_loss: 0.3200 - val_accuracy: 0.9121\n"
          ]
        }
      ]
    },
    {
      "cell_type": "code",
      "source": [
        "pd.DataFrame(history.history).plot(figsize=(8,5))\n",
        "plt.grid(True)\n",
        "plt.gca()\n",
        "plt.xlabel('# of Epochs')\n",
        "plt.show()"
      ],
      "metadata": {
        "id": "ry_r3a-Wp_hV",
        "colab": {
          "base_uri": "https://localhost:8080/",
          "height": 334
        },
        "outputId": "2efe116e-196a-48e1-8699-3457aa4782d4"
      },
      "execution_count": 26,
      "outputs": [
        {
          "output_type": "display_data",
          "data": {
            "text/plain": [
              "<Figure size 576x360 with 1 Axes>"
            ],
            "image/png": "[encoded data removed]"
          },
          "metadata": {
            "needs_background": "light"
          }
        }
      ]
    },
    {
      "cell_type": "code",
      "source": [
        "from sklearn.metrics import accuracy_score\n",
        "print('Accuracy: ' + str(accuracy_score(test_Y, keras_clf.predict(test_x).argmax(axis=-1))))"
      ],
      "metadata": {
        "colab": {
          "base_uri": "https://localhost:8080/"
        },
        "id": "KPUgYisLiSzp",
        "outputId": "fc2675db-b807-4474-84f2-f8762c3782a7"
      },
      "execution_count": 27,
      "outputs": [
        {
          "output_type": "stream",
          "name": "stdout",
          "text": [
            "Accuracy: 0.9171\n"
          ]
        }
      ]
    },
    {
      "cell_type": "code",
      "source": [
        "import numpy as np\n",
        "plt.imshow(np.reshape(keras_clf.get_weights()[0][:,3],(28,28)), cmap='seismic')"
      ],
      "metadata": {
        "colab": {
          "base_uri": "https://localhost:8080/",
          "height": 283
        },
        "id": "YBNQzuf0iwKJ",
        "outputId": "72abacbe-e060-471d-c61a-91ac55c4d64a"
      },
      "execution_count": 28,
      "outputs": [
        {
          "output_type": "execute_result",
          "data": {
            "text/plain": [
              "<matplotlib.image.AxesImage at 0x7f20bdfbefd0>"
            ]
          },
          "metadata": {},
          "execution_count": 28
        },
        {
          "output_type": "display_data",
          "data": {
            "text/plain": [
              "<Figure size 432x288 with 1 Axes>"
            ],
            "image/png": "[encoded data removed]"
          },
          "metadata": {
            "needs_background": "light"
          }
        }
      ]
    }
  ]
}