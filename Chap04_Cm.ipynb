{
  "nbformat": 4,
  "nbformat_minor": 0,
  "metadata": {
    "colab": {
      "name": "Chap04-Cm.ipynb",
      "provenance": [],
      "authorship_tag": "ABX9TyNDtnriXFPuC1fslgdeazsQ",
      "include_colab_link": true
    },
    "kernelspec": {
      "name": "python3",
      "display_name": "Python 3"
    },
    "language_info": {
      "name": "python"
    }
  },
  "cells": [
    {
      "cell_type": "markdown",
      "metadata": {
        "id": "view-in-github",
        "colab_type": "text"
      },
      "source": [
        "<a href=\"https://colab.research.google.com/github/yuta-kanematsu/TU_math_study/blob/main/Chap04_Cm.ipynb\" target=\"_parent\"><img src=\"https://colab.research.google.com/assets/colab-badge.svg\" alt=\"Open In Colab\"/></a>"
      ]
    },
    {
      "cell_type": "code",
      "execution_count": 4,
      "metadata": {
        "colab": {
          "base_uri": "https://localhost:8080/"
        },
        "id": "4xguLWh3PNJ6",
        "outputId": "f29ba7e9-fe96-49f1-dd7d-1db5a1ec30b9"
      },
      "outputs": [
        {
          "output_type": "stream",
          "name": "stdout",
          "text": [
            "--2022-06-07 22:22:08--  http://archive.ics.uci.edu/ml/machine-learning-databases/00356/student.zip\n",
            "Resolving archive.ics.uci.edu (archive.ics.uci.edu)... 128.195.10.252\n",
            "Connecting to archive.ics.uci.edu (archive.ics.uci.edu)|128.195.10.252|:80... connected.\n",
            "HTTP request sent, awaiting response... 200 OK\n",
            "Length: 20478 (20K) [application/x-httpd-php]\n",
            "Saving to: ‘student.zip’\n",
            "\n",
            "student.zip         100%[===================>]  20.00K  --.-KB/s    in 0.1s    \n",
            "\n",
            "2022-06-07 22:22:09 (141 KB/s) - ‘student.zip’ saved [20478/20478]\n",
            "\n",
            "Archive:  student.zip\n",
            "  inflating: out/student-mat.csv     \n",
            "  inflating: out/student-por.csv     \n",
            "  inflating: out/student-merge.R     \n",
            "  inflating: out/student.txt         \n"
          ]
        }
      ],
      "source": [
        "!wget 'http://archive.ics.uci.edu/ml/machine-learning-databases/00356/student.zip' -O student.zip\n",
        "!unzip -d out student.zip"
      ]
    },
    {
      "cell_type": "code",
      "source": [
        "import numpy as np\n",
        "import numpy.random as random\n",
        "import scipy as sp\n",
        "import pandas as pd\n",
        "from pandas import Series, DataFrame\n",
        "\n",
        "import matplotlib.pyplot as plt\n",
        "import matplotlib as mpl\n",
        "import seaborn as sns\n",
        "%matplotlib inline\n",
        "\n",
        "%precision 3"
      ],
      "metadata": {
        "colab": {
          "base_uri": "https://localhost:8080/",
          "height": 36
        },
        "id": "tu2YwPmXPuW5",
        "outputId": "fafe4ea5-3172-4a7c-a0cb-a3c4f5bccb9d"
      },
      "execution_count": 2,
      "outputs": [
        {
          "output_type": "execute_result",
          "data": {
            "text/plain": [
              "'%.3f'"
            ],
            "application/vnd.google.colaboratory.intrinsic+json": {
              "type": "string"
            }
          },
          "metadata": {},
          "execution_count": 2
        }
      ]
    },
    {
      "cell_type": "code",
      "source": [
        "student_data_math = pd.read_csv('/content/out/student-mat.csv', sep=';')\n",
        "student_data_por = pd.read_csv('/content/out/student-por.csv', sep=';')\n",
        "student_data_merge = pd.merge(student_data_math\n",
        "                              , student_data_por\n",
        "                              , on=['school', 'sex', 'age', 'address', 'famsize', 'Pstatus', 'Medu'\n",
        "                                      , 'Fedu', 'Mjob', 'Fjob', 'reason', 'nursery', 'internet']\n",
        "                              , suffixes=('_math', '_por'))"
      ],
      "metadata": {
        "id": "3GJOIlXBP3Fk"
      },
      "execution_count": 8,
      "outputs": []
    },
    {
      "cell_type": "code",
      "source": [
        "#Chap04-Cm01\n",
        "from scipy import stats\n",
        "print('数学の欠席数平均：', student_data_merge.absences_math.mean())\n",
        "print('ポルトガル語の欠席数平均：', student_data_merge.absences_por.mean())\n",
        "\n",
        "t, p = stats.ttest_rel(student_data_merge.absences_math, student_data_merge.absences_por)\n",
        "print( 'p値 = ',p )"
      ],
      "metadata": {
        "colab": {
          "base_uri": "https://localhost:8080/"
        },
        "id": "K8M3cevLQVtl",
        "outputId": "89e44d2a-c1cf-4d04-be86-52bd63a13c9d"
      },
      "execution_count": 10,
      "outputs": [
        {
          "output_type": "stream",
          "name": "stdout",
          "text": [
            "数学の欠席数平均： 5.319371727748691\n",
            "ポルトガル語の欠席数平均： 3.6727748691099475\n",
            "p値 =  2.3441656888384195e-06\n"
          ]
        }
      ]
    },
    {
      "cell_type": "code",
      "source": [
        "#Chap04-Cm02\n",
        "print('数学の勉強時間平均：', student_data_merge.studytime_math.mean())\n",
        "print('ポルトガル語の勉強時間平均：', student_data_merge.studytime_por.mean())\n",
        "\n",
        "t, p = stats.ttest_rel(student_data_merge.studytime_math, student_data_merge.studytime_por)\n",
        "print( 'p値 = ',p)"
      ],
      "metadata": {
        "colab": {
          "base_uri": "https://localhost:8080/"
        },
        "id": "Bg13gXCiRVwO",
        "outputId": "a06a1a53-87c3-4f70-b9f3-ec2ed0b576bb"
      },
      "execution_count": 12,
      "outputs": [
        {
          "output_type": "stream",
          "name": "stdout",
          "text": [
            "数学の勉強時間平均： 2.0340314136125652\n",
            "ポルトガル語の勉強時間平均： 2.0392670157068062\n",
            "p値 =  0.5643842756976525\n"
          ]
        }
      ]
    },
    {
      "cell_type": "code",
      "source": [
        ""
      ],
      "metadata": {
        "id": "voQ8UvSdRm_e"
      },
      "execution_count": null,
      "outputs": []
    }
  ]
}