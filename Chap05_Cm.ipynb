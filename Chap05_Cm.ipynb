{
  "nbformat": 4,
  "nbformat_minor": 0,
  "metadata": {
    "colab": {
      "name": "Chap05-Cm.ipynb",
      "provenance": [],
      "collapsed_sections": [],
      "authorship_tag": "ABX9TyMCCjfT9nk8hOx/cSGkQOwO",
      "include_colab_link": true
    },
    "kernelspec": {
      "name": "python3",
      "display_name": "Python 3"
    },
    "language_info": {
      "name": "python"
    }
  },
  "cells": [
    {
      "cell_type": "markdown",
      "metadata": {
        "id": "view-in-github",
        "colab_type": "text"
      },
      "source": [
        "<a href=\"https://colab.research.google.com/github/yuta-kanematsu/TU_math_study/blob/main/Chap05_Cm.ipynb\" target=\"_parent\"><img src=\"https://colab.research.google.com/assets/colab-badge.svg\" alt=\"Open In Colab\"/></a>"
      ]
    },
    {
      "cell_type": "code",
      "execution_count": 4,
      "metadata": {
        "colab": {
          "base_uri": "https://localhost:8080/",
          "height": 36
        },
        "id": "pkrSDY_cIyrY",
        "outputId": "37aa9cbb-6c96-4741-e74c-2137871f1194"
      },
      "outputs": [
        {
          "output_type": "execute_result",
          "data": {
            "text/plain": [
              "'%.3f'"
            ],
            "application/vnd.google.colaboratory.intrinsic+json": {
              "type": "string"
            }
          },
          "metadata": {},
          "execution_count": 4
        }
      ],
      "source": [
        "# 以下のライブラリを使うので、あらかじめ読み込んでおいてください\n",
        "import numpy as np\n",
        "import numpy.random as random\n",
        "import scipy as sp\n",
        "\n",
        "# 可視化ライブラリ\n",
        "import matplotlib.pyplot as plt\n",
        "import matplotlib as mpl\n",
        "%matplotlib inline\n",
        "\n",
        "# 小数第3位まで表示\n",
        "%precision 3"
      ]
    },
    {
      "cell_type": "code",
      "source": [
        "#Cm05-01\n",
        "\n",
        "A = np.array([[5, 1, 0, 1],\n",
        "              [1, 9, -5, 7],\n",
        "              [0, -5, 8, -3],\n",
        "              [1, 7, -3, 10]])\n",
        "b = np.array([2, 10, 5, 10])"
      ],
      "metadata": {
        "id": "DFE0L-3-JBoc"
      },
      "execution_count": 5,
      "outputs": []
    },
    {
      "cell_type": "code",
      "source": [
        "import scipy.linalg as sp_la\n",
        "L = sp_la.cholesky(A)\n",
        "\n",
        "t = sp.linalg.solve(L.T.conj(), b)\n",
        "x = sp.linalg.solve(L, t)\n",
        "\n",
        "print(x)"
      ],
      "metadata": {
        "colab": {
          "base_uri": "https://localhost:8080/"
        },
        "id": "svlu57lHQds-",
        "outputId": "73e0a4f9-49a2-44aa-8ef6-a3000e1ec2b2"
      },
      "execution_count": 8,
      "outputs": [
        {
          "output_type": "stream",
          "name": "stdout",
          "text": [
            "[-0.051  2.157  2.01   0.098]\n"
          ]
        }
      ]
    },
    {
      "cell_type": "code",
      "source": [
        "#Cm05-02\n",
        "\n",
        "from scipy import integrate\n",
        "import math\n",
        "\n",
        "integrate.dblquad(lambda x, y: 1/(np.sqrt(x+y)*(1+x+y)**2), 0, 1, lambda x: 0, lambda x: 1-x)"
      ],
      "metadata": {
        "colab": {
          "base_uri": "https://localhost:8080/"
        },
        "id": "D4vqYronRN_S",
        "outputId": "be3a8ae4-1c0e-4e94-9e37-c31be0a9e79f"
      },
      "execution_count": 9,
      "outputs": [
        {
          "output_type": "execute_result",
          "data": {
            "text/plain": [
              "(0.285, 0.000)"
            ]
          },
          "metadata": {},
          "execution_count": 9
        }
      ]
    },
    {
      "cell_type": "code",
      "source": [
        "#Cm05-03\n",
        "\n",
        "from scipy.optimize import minimize\n",
        "\n",
        "def func(x):\n",
        "    return x ** 2 + 1\n",
        "\n",
        "def cons(x):\n",
        "    return (x + 1)\n",
        "\n",
        "cons = ({'type': 'ineq', 'fun': cons})\n",
        "x = -20 \n",
        "\n",
        "result = minimize(func, x0=x, constraints=cons, method='SLSQP')\n",
        "print(result)\n",
        "\n",
        "print('Y:',result.fun)\n",
        "print('X:',result.x)"
      ],
      "metadata": {
        "id": "sf4QYdQ3V-KE",
        "colab": {
          "base_uri": "https://localhost:8080/"
        },
        "outputId": "ebd37211-2779-42e5-d163-36a4ae701934"
      },
      "execution_count": 11,
      "outputs": [
        {
          "output_type": "stream",
          "name": "stdout",
          "text": [
            "     fun: 1.0\n",
            "     jac: array([1.49e-08])\n",
            " message: 'Optimization terminated successfully.'\n",
            "    nfev: 7\n",
            "     nit: 2\n",
            "    njev: 2\n",
            "  status: 0\n",
            " success: True\n",
            "       x: array([0.])\n",
            "Y: 1.0\n",
            "X: [0.]\n"
          ]
        }
      ]
    }
  ]
}